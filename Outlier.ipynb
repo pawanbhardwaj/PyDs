{
 "cells": [
  {
   "cell_type": "code",
   "execution_count": 2,
   "metadata": {},
   "outputs": [
    {
     "name": "stdout",
     "output_type": "stream",
     "text": [
      "0      0.208914\n",
      "1     -0.386478\n",
      "2      0.642591\n",
      "3     -0.412851\n",
      "4     -0.068732\n",
      "         ...   \n",
      "195   -0.334519\n",
      "196   -0.471974\n",
      "197   -0.482116\n",
      "198    0.529957\n",
      "199    0.091726\n",
      "Length: 140, dtype: float64\n"
     ]
    }
   ],
   "source": [
    "import pandas as pd\n",
    "import numpy as np\n",
    "\n",
    "size=200\n",
    "\n",
    "x = pd.Series(np.random.normal(size=size)) # 200 values\n",
    "x = x[x.between(x.quantile(.15), x.quantile(.85))] # without outliers\n",
    "\n",
    "print(x) # Now only 140 values"
   ]
  }
 ],
 "metadata": {
  "kernelspec": {
   "display_name": "Python 3",
   "language": "python",
   "name": "python3"
  },
  "language_info": {
   "codemirror_mode": {
    "name": "ipython",
    "version": 3
   },
   "file_extension": ".py",
   "mimetype": "text/x-python",
   "name": "python",
   "nbconvert_exporter": "python",
   "pygments_lexer": "ipython3",
   "version": "3.8.1"
  }
 },
 "nbformat": 4,
 "nbformat_minor": 4
}
