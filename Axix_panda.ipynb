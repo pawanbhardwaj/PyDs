{
 "cells": [
  {
   "cell_type": "code",
   "execution_count": 2,
   "metadata": {},
   "outputs": [
    {
     "name": "stdout",
     "output_type": "stream",
     "text": [
      "       Weight    Name  Age\n",
      "Row_1      45     Sam   14\n",
      "Row_2      88  Andrea   25\n",
      "Row_3      56    Alex   55\n",
      "Row_4      15   Robin    8\n",
      "Row_5      71     Kia   21\n"
     ]
    }
   ],
   "source": [
    "# importing pandas as pd \n",
    "import pandas as pd \n",
    "\n",
    "# Creating the DataFrame \n",
    "df = pd.DataFrame({'Weight':[45, 88, 56, 15, 71], \n",
    "\t\t\t\t'Name':['Sam', 'Andrea', 'Alex', 'Robin', 'Kia'], \n",
    "\t\t\t\t'Age':[14, 25, 55, 8, 21]}) \n",
    "\n",
    "# Create the index \n",
    "index_ = ['Row_1', 'Row_2', 'Row_3', 'Row_4', 'Row_5'] \n",
    "\n",
    "# Set the index \n",
    "df.index = index_ \n",
    "\n",
    "# Print the DataFrame \n",
    "print(df) \n"
   ]
  },
  {
   "cell_type": "code",
   "execution_count": null,
   "metadata": {},
   "outputs": [],
   "source": []
  }
 ],
 "metadata": {
  "kernelspec": {
   "display_name": "Python 3",
   "language": "python",
   "name": "python3"
  },
  "language_info": {
   "codemirror_mode": {
    "name": "ipython",
    "version": 3
   },
   "file_extension": ".py",
   "mimetype": "text/x-python",
   "name": "python",
   "nbconvert_exporter": "python",
   "pygments_lexer": "ipython3",
   "version": "3.8.1"
  }
 },
 "nbformat": 4,
 "nbformat_minor": 4
}
