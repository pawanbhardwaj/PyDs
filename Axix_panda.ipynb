{
 "cells": [
  {
   "cell_type": "code",
   "execution_count": 3,
   "metadata": {},
   "outputs": [
    {
     "name": "stdout",
     "output_type": "stream",
     "text": [
      "       Weight    Name  Age\n",
      "Row_1      45     Sam   14\n",
      "Row_2      88  Andrea   25\n",
      "Row_3      56    Alex   55\n",
      "Row_4      15   Robin    8\n",
      "Row_5      71     Kia   21\n"
     ]
    }
   ],
   "source": [
    "# importing pandas as pd \n",
    "import pandas as pd \n",
    "\n",
    "# Creating the DataFrame \n",
    "df = pd.DataFrame({'Weight':[45, 88, 56, 15, 71], \n",
    "\t\t\t\t'Name':['Sam', 'Andrea', 'Alex', 'Robin', 'Kia'], \n",
    "\t\t\t\t'Age':[14, 25, 55, 8, 21]}) \n",
    "\n",
    "# Create the index \n",
    "index_ = ['Row_1', 'Row_2', 'Row_3', 'Row_4', 'Row_5'] \n",
    "\n",
    "# Set the index \n",
    "df.index = index_ \n",
    "\n",
    "# Print the DataFrame \n",
    "print(df) \n"
   ]
  },
  {
   "cell_type": "code",
   "execution_count": 2,
   "metadata": {},
   "outputs": [
    {
     "name": "stdout",
     "output_type": "stream",
     "text": [
      "          A     B   C     D\n",
      "Row_1  12.0   7.0  20  14.0\n",
      "Row_2   4.0   2.0  16   3.0\n",
      "Row_3   5.0  54.0  11   NaN\n",
      "Row_4   NaN   3.0   3   2.0\n",
      "Row_5   1.0   NaN   8   6.0\n"
     ]
    }
   ],
   "source": [
    "# importing pandas as pd \n",
    "import pandas as pd \n",
    "\n",
    "# Creating the DataFrame \n",
    "df = pd.DataFrame({\"A\":[12, 4, 5, None, 1], \n",
    "\t\t\t\t\"B\":[7, 2, 54, 3, None], \n",
    "\t\t\t\t\"C\":[20, 16, 11, 3, 8], \n",
    "\t\t\t\t\"D\":[14, 3, None, 2, 6]}) \n",
    "\n",
    "# Create the index \n",
    "index_ = ['Row_1', 'Row_2', 'Row_3', 'Row_4', 'Row_5'] \n",
    "\n",
    "# Set the index \n",
    "df.index = index_ \n",
    "\n",
    "# Print the DataFrame \n",
    "print(df) \n"
   ]
  }
 ],
 "metadata": {
  "kernelspec": {
   "display_name": "Python 3",
   "language": "python",
   "name": "python3"
  },
  "language_info": {
   "codemirror_mode": {
    "name": "ipython",
    "version": 3
   },
   "file_extension": ".py",
   "mimetype": "text/x-python",
   "name": "python",
   "nbconvert_exporter": "python",
   "pygments_lexer": "ipython3",
   "version": "3.8.1"
  }
 },
 "nbformat": 4,
 "nbformat_minor": 4
}
