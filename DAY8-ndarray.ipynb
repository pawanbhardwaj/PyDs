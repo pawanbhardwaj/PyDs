{
 "cells": [
  {
   "cell_type": "code",
   "execution_count": 11,
   "metadata": {},
   "outputs": [
    {
     "name": "stdout",
     "output_type": "stream",
     "text": [
      "[[[[  0   1   2   3   4]\n",
      "   [  5   6   7   8   9]\n",
      "   [ 10  11  12  13  14]\n",
      "   [ 15  16  17  18  19]]\n",
      "\n",
      "  [[ 20  21  22  23  24]\n",
      "   [ 25  26  27  28  29]\n",
      "   [ 30  31  32  33  34]\n",
      "   [ 35  36  37  38  39]]\n",
      "\n",
      "  [[ 40  41  42  43  44]\n",
      "   [ 45  46  47  48  49]\n",
      "   [ 50  51  52  53  54]\n",
      "   [ 55  56  57  58  59]]]\n",
      "\n",
      "\n",
      " [[[ 60  61  62  63  64]\n",
      "   [ 65  66  67  68  69]\n",
      "   [ 70  71  72  73  74]\n",
      "   [ 75  76  77  78  79]]\n",
      "\n",
      "  [[ 80  81  82  83  84]\n",
      "   [ 85  86  87  88  89]\n",
      "   [ 90  91  92  93  94]\n",
      "   [ 95  96  97  98  99]]\n",
      "\n",
      "  [[100 101 102 103 104]\n",
      "   [105 106 107 108 109]\n",
      "   [110 111 112 113 114]\n",
      "   [115 116 117 118 119]]]]\n",
      "91\n",
      "[35 36 37 38 39]\n",
      "(array([  0,   5,  10,  15,  20,  25,  30,  35,  40,  45,  50,  55,  60,\n",
      "        65,  70,  75,  80,  85,  90,  95, 100, 105, 110, 115]),)\n",
      "\n",
      "mean of arr, axis = 3 :  [[[  2.   7.  12.  17.]\n",
      "  [ 22.  27.  32.  37.]\n",
      "  [ 42.  47.  52.  57.]]\n",
      "\n",
      " [[ 62.  67.  72.  77.]\n",
      "  [ 82.  87.  92.  97.]\n",
      "  [102. 107. 112. 117.]]]\n"
     ]
    }
   ],
   "source": [
    "import numpy as np         #importing numpy\n",
    "arr = np.arange(120)       #ndarray creation\n",
    "arr1 = arr.reshape(2,3,4,5)       #reshaping\n",
    "print(arr1)\n",
    "print(arr[91])                #indexing\n",
    "range = arr[(arr>34)*(arr<40)]\n",
    "print(range)                       #obtaining a range of value 35-39 from this ndarray\n",
    "newarr = np.where(arr%5 == 0)\n",
    "print(newarr)\n",
    "print(\"\\nmean of arr, axis = 3 : \", np.mean(arr1, axis = 3)) "
   ]
  },
  {
   "cell_type": "code",
   "execution_count": null,
   "metadata": {},
   "outputs": [],
   "source": []
  }
 ],
 "metadata": {
  "kernelspec": {
   "display_name": "Python 3",
   "language": "python",
   "name": "python3"
  },
  "language_info": {
   "codemirror_mode": {
    "name": "ipython",
    "version": 3
   },
   "file_extension": ".py",
   "mimetype": "text/x-python",
   "name": "python",
   "nbconvert_exporter": "python",
   "pygments_lexer": "ipython3",
   "version": "3.8.1"
  }
 },
 "nbformat": 4,
 "nbformat_minor": 4
}
